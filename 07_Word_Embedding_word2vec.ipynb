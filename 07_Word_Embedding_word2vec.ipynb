{
 "cells": [
  {
   "cell_type": "markdown",
   "metadata": {},
   "source": [
    "## Word Embedding with Word2Vec"
   ]
  },
  {
   "cell_type": "markdown",
   "metadata": {},
   "source": [
    "Word2Vec is one algorithm for learning a word embedding from a text corpus. There are two\n",
    "main training algorithms that can be used to learn the embedding from text.\n",
    "\n",
    "- Continuous Bag-of-Words (CBOW) \n",
    "- skip grams.\n",
    "\n",
    "Gensim provides the ```Word2Vec``` class for working with a Word2Vec model. Learning a word embedding from text involves loading and organizing the text into sentences and providing them to the constructor of a new ```Word2Vec()``` instance."
   ]
  },
  {
   "cell_type": "code",
   "execution_count": 11,
   "metadata": {},
   "outputs": [],
   "source": [
    "from gensim.models import Word2Vec\n",
    "from sklearn.decomposition import PCA\n",
    "from matplotlib import pyplot"
   ]
  },
  {
   "cell_type": "code",
   "execution_count": 12,
   "metadata": {},
   "outputs": [],
   "source": [
    "reviews = [['Well', 'done'],\n",
    "            ['Good','work'],\n",
    "            ['Great', 'effort'],\n",
    "            ['nice', 'work'],\n",
    "            ['Excellent'],\n",
    "            ['Weak'],\n",
    "            ['Poor', 'effort'],\n",
    "            ['not', 'good'],\n",
    "            ['poor', 'work'],\n",
    "            ['Could', 'have', 'done', 'better']]"
   ]
  },
  {
   "cell_type": "code",
   "execution_count": 19,
   "metadata": {},
   "outputs": [],
   "source": [
    "model = Word2Vec(reviews, min_count=1, vector_size=100, sg=0)"
   ]
  },
  {
   "cell_type": "code",
   "execution_count": 20,
   "metadata": {},
   "outputs": [
    {
     "name": "stdout",
     "output_type": "stream",
     "text": [
      "['work', 'effort', 'done', 'better', 'have', 'Could', 'poor', 'good', 'not', 'Poor', 'Weak', 'Excellent', 'nice', 'Great', 'Good', 'Well']\n"
     ]
    }
   ],
   "source": [
    "# summarize vocab\n",
    "words = list(model.wv.key_to_index)\n",
    "print(words)"
   ]
  },
  {
   "cell_type": "code",
   "execution_count": 21,
   "metadata": {},
   "outputs": [
    {
     "name": "stdout",
     "output_type": "stream",
     "text": [
      "[[-5.3622725e-04  2.3643016e-04  5.1033497e-03 ... -7.0415614e-03\n",
      "   9.0145587e-04  6.3925339e-03]\n",
      " [-8.6198989e-03  3.6658279e-03  5.1900111e-03 ... -2.3915735e-03\n",
      "  -9.5103290e-03  4.5059882e-03]\n",
      " [ 9.4563962e-05  3.0773187e-03 -6.8126465e-03 ...  5.1259040e-04\n",
      "   8.2130842e-03 -7.0190406e-03]\n",
      " ...\n",
      " [-9.5001198e-03  9.5622232e-03 -7.7707553e-03 ... -3.1351089e-03\n",
      "  -6.3388203e-03  9.8700766e-03]\n",
      " [ 7.6966453e-03  9.1206403e-03  1.1355019e-03 ...  8.2682967e-03\n",
      "  -6.0985493e-03  9.4382809e-03]\n",
      " [-7.1909428e-03  4.2328904e-03  2.1633934e-03 ...  9.4380733e-03\n",
      "   7.0552849e-03  6.7549516e-03]]\n"
     ]
    }
   ],
   "source": [
    "word_embeddings = model.wv[model.wv.key_to_index]\n",
    "print(word_embeddings)"
   ]
  },
  {
   "cell_type": "code",
   "execution_count": 25,
   "metadata": {},
   "outputs": [
    {
     "data": {
      "text/plain": [
       "array([-7.1909428e-03,  4.2328904e-03,  2.1633934e-03,  7.4407146e-03,\n",
       "       -4.8892666e-03, -4.5643472e-03, -6.0981750e-03,  3.2993674e-03,\n",
       "       -4.4994638e-03,  8.5228849e-03, -4.2888285e-03, -9.1054197e-03,\n",
       "       -4.8163556e-03,  6.4164903e-03, -6.3713240e-03, -5.2615381e-03,\n",
       "       -7.3044109e-03,  6.0222601e-03,  3.3575939e-03,  2.8483891e-03,\n",
       "       -3.1385517e-03,  6.0308911e-03, -6.1527467e-03, -1.9801022e-03,\n",
       "       -5.9830830e-03, -9.9568127e-04, -2.0209861e-03,  8.4859440e-03,\n",
       "        7.8001023e-05, -8.5753277e-03, -5.4290984e-03, -6.8759872e-03,\n",
       "        2.6923800e-03,  9.4566466e-03, -5.8159973e-03,  8.2650259e-03,\n",
       "        8.5320519e-03, -7.0626400e-03, -8.8832136e-03,  9.4691822e-03,\n",
       "        8.3743641e-03, -4.6908925e-03, -6.7260410e-03,  7.8421356e-03,\n",
       "        3.7633444e-03,  8.0955029e-03, -7.5715468e-03, -9.5250849e-03,\n",
       "        1.5774060e-03, -9.8057678e-03, -4.8858859e-03, -3.4601046e-03,\n",
       "        9.6209217e-03,  8.6235693e-03, -2.8356076e-03,  5.8268714e-03,\n",
       "        8.2370946e-03, -2.2629809e-03,  9.5285419e-03,  7.1602152e-03,\n",
       "        2.0414996e-03, -3.8487648e-03, -5.0817514e-03, -3.0516528e-03,\n",
       "        7.8878645e-03, -6.1904360e-03, -2.9150224e-03,  9.1910223e-03,\n",
       "        3.4566545e-03,  6.0726120e-03, -8.0328174e-03, -7.5150491e-04,\n",
       "        5.5224467e-03, -4.7144699e-03,  7.4784923e-03,  9.3195913e-03,\n",
       "       -4.0936947e-04, -2.0636010e-03, -5.9335947e-04, -5.7858895e-03,\n",
       "       -8.3862832e-03, -1.5068746e-03, -2.5571848e-03,  4.3824338e-03,\n",
       "       -6.8675186e-03,  5.4136943e-03, -6.7450856e-03, -7.8202896e-03,\n",
       "        8.4717106e-03,  8.9186141e-03, -3.4812402e-03,  3.4914135e-03,\n",
       "       -5.7957363e-03, -8.7500857e-03, -5.5155731e-03,  6.7487289e-03,\n",
       "        6.4177583e-03,  9.4380733e-03,  7.0552849e-03,  6.7549516e-03],\n",
       "      dtype=float32)"
      ]
     },
     "execution_count": 25,
     "metadata": {},
     "output_type": "execute_result"
    }
   ],
   "source": [
    "# embedding of a word\n",
    "\n",
    "model.wv['Well']"
   ]
  },
  {
   "cell_type": "code",
   "execution_count": 22,
   "metadata": {},
   "outputs": [],
   "source": [
    "# fit a 2d PCA model to the vectors\n",
    "X = model.wv[model.wv.key_to_index]\n",
    "pca = PCA(n_components=2)\n",
    "result = pca.fit_transform(X)"
   ]
  },
  {
   "cell_type": "code",
   "execution_count": 23,
   "metadata": {},
   "outputs": [
    {
     "data": {
      "image/png": "[encoded data removed]",
      "text/plain": [
       "<Figure size 432x288 with 1 Axes>"
      ]
     },
     "metadata": {
      "needs_background": "light"
     },
     "output_type": "display_data"
    }
   ],
   "source": [
    "# create a scatter plot of the projection\n",
    "pyplot.scatter(result[:, 0], result[:, 1])\n",
    "words = list(model.wv.key_to_index)\n",
    "for i, word in enumerate(words):\n",
    "    pyplot.annotate(word, xy=(result[i, 0], result[i, 1]))\n",
    "pyplot.show()"
   ]
  },
  {
   "cell_type": "code",
   "execution_count": null,
   "metadata": {},
   "outputs": [],
   "source": []
  }
 ],
 "metadata": {
  "kernelspec": {
   "display_name": "Python 3",
   "language": "python",
   "name": "python3"
  },
  "language_info": {
   "codemirror_mode": {
    "name": "ipython",
    "version": 3
   },
   "file_extension": ".py",
   "mimetype": "text/x-python",
   "name": "python",
   "nbconvert_exporter": "python",
   "pygments_lexer": "ipython3",
   "version": "3.8.5"
  }
 },
 "nbformat": 4,
 "nbformat_minor": 4
}
